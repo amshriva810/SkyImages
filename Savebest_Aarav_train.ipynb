{
  "nbformat": 4,
  "nbformat_minor": 0,
  "metadata": {
    "colab": {
      "provenance": []
    },
    "kernelspec": {
      "name": "python3",
      "display_name": "Python 3"
    },
    "language_info": {
      "name": "python"
    }
  },
  "cells": [
    {
      "cell_type": "code",
      "execution_count": 1,
      "metadata": {
        "colab": {
          "base_uri": "https://localhost:8080/"
        },
        "id": "Mv4fYeL9cKNJ",
        "outputId": "c2704dfb-ceb6-4be5-87ac-9d9d5f70bdf1"
      },
      "outputs": [
        {
          "output_type": "stream",
          "name": "stdout",
          "text": [
            "Mounted at /content/drive\n"
          ]
        }
      ],
      "source": [
        "from google.colab import drive\n",
        "drive.mount('/content/drive')\n"
      ]
    },
    {
      "cell_type": "code",
      "source": [],
      "metadata": {
        "id": "_beSl5Jqcn6G"
      },
      "execution_count": 1,
      "outputs": []
    },
    {
      "cell_type": "code",
      "source": [
        "!ls /content/drive/MyDrive/dataset_split/train/class1\n",
        "!ls /content/drive/MyDrive/dataset_split/validation/class1\n"
      ],
      "metadata": {
        "id": "RB2VAzB1dX5v",
        "colab": {
          "base_uri": "https://localhost:8080/"
        },
        "outputId": "41f73d78-f8bd-49a3-a8ee-d1ed5c7aa3e8"
      },
      "execution_count": 2,
      "outputs": [
        {
          "output_type": "stream",
          "name": "stdout",
          "text": [
            "ls: cannot access '/content/drive/MyDrive/dataset_split/train/class1': No such file or directory\n",
            "ls: cannot access '/content/drive/MyDrive/dataset_split/validation/class1': No such file or directory\n"
          ]
        }
      ]
    },
    {
      "cell_type": "code",
      "source": [
        "import os\n",
        "import shutil\n",
        "import random\n",
        "from tqdm import tqdm\n",
        "\n",
        "def split_data(source_dir, train_dir, val_dir, split_ratio=0.8):\n",
        "    if not os.path.exists(train_dir):\n",
        "        os.makedirs(train_dir)\n",
        "    if not os.path.exists(val_dir):\n",
        "        os.makedirs(val_dir)\n",
        "\n",
        "    for class_name in tqdm(os.listdir(source_dir), desc=\"Processing classes\"):\n",
        "        class_path = os.path.join(source_dir, class_name)\n",
        "        if os.path.isdir(class_path):\n",
        "            train_class_path = os.path.join(train_dir, class_name)\n",
        "            val_class_path = os.path.join(val_dir, class_name)\n",
        "            os.makedirs(train_class_path, exist_ok=True)\n",
        "            os.makedirs(val_class_path, exist_ok=True)\n",
        "\n",
        "            files = [f for f in os.listdir(class_path) if os.path.isfile(os.path.join(class_path, f))]\n",
        "            random.shuffle(files)\n",
        "            split_index = int(len(files) * split_ratio)\n",
        "\n",
        "            train_files = files[:split_index]\n",
        "            val_files = files[split_index:]\n",
        "\n",
        "            for file in train_files:\n",
        "                shutil.copy2(os.path.join(class_path, file), os.path.join(train_class_path, file))\n",
        "            for file in val_files:\n",
        "                shutil.copy2(os.path.join(class_path, file), os.path.join(val_class_path, file))\n",
        "\n",
        "            # Logging\n",
        "            print(f\"Class '{class_name}': {len(train_files)} training files, {len(val_files)} validation files\")\n",
        "\n",
        "# Paths\n",
        "source_dir = '/content/drive/MyDrive/dataset/train'\n",
        "train_dir = '/content/drive/MyDrive/dataset_split/train'\n",
        "val_dir = '/content/drive/MyDrive/dataset_split/validation'\n",
        "\n",
        "# Split\n",
        "split_data(source_dir, train_dir, val_dir, split_ratio=0.8)\n",
        "\n",
        "\n",
        "\n"
      ],
      "metadata": {
        "id": "tS8N1P1ieut0",
        "colab": {
          "base_uri": "https://localhost:8080/"
        },
        "outputId": "9a56e614-43c6-437a-8a29-e03e6c13c49c"
      },
      "execution_count": 3,
      "outputs": [
        {
          "output_type": "stream",
          "name": "stderr",
          "text": [
            "Processing classes:  25%|██▌       | 1/4 [00:06<00:20,  6.94s/it]"
          ]
        },
        {
          "output_type": "stream",
          "name": "stdout",
          "text": [
            "Class 'class3': 24 training files, 6 validation files\n"
          ]
        },
        {
          "output_type": "stream",
          "name": "stderr",
          "text": [
            "\rProcessing classes:  50%|█████     | 2/4 [00:10<00:09,  4.79s/it]"
          ]
        },
        {
          "output_type": "stream",
          "name": "stdout",
          "text": [
            "Class 'class2': 9 training files, 3 validation files\n"
          ]
        },
        {
          "output_type": "stream",
          "name": "stderr",
          "text": [
            "\rProcessing classes:  75%|███████▌  | 3/4 [00:20<00:07,  7.15s/it]"
          ]
        },
        {
          "output_type": "stream",
          "name": "stdout",
          "text": [
            "Class 'class4': 36 training files, 10 validation files\n"
          ]
        },
        {
          "output_type": "stream",
          "name": "stderr",
          "text": [
            "Processing classes: 100%|██████████| 4/4 [00:24<00:00,  6.06s/it]"
          ]
        },
        {
          "output_type": "stream",
          "name": "stdout",
          "text": [
            "Class 'class1': 12 training files, 4 validation files\n"
          ]
        },
        {
          "output_type": "stream",
          "name": "stderr",
          "text": [
            "\n"
          ]
        }
      ]
    },
    {
      "cell_type": "code",
      "source": [
        "# Verify the directories in train and validation\n",
        "!ls /content/drive/MyDrive/dataset_split/train\n",
        "!ls /content/drive/MyDrive/dataset_split/validation\n",
        "\n",
        "# List a few files from one class directory in train and validation\n",
        "!ls /content/drive/MyDrive/dataset_split/train/class1 | head -n 10\n",
        "!ls /content/drive/MyDrive/dataset_split/validation/class1 | head -n 10\n"
      ],
      "metadata": {
        "colab": {
          "base_uri": "https://localhost:8080/"
        },
        "id": "cAcrSb9wfg9A",
        "outputId": "24e29cfc-4149-4154-da0d-b6d8330ce14a"
      },
      "execution_count": 4,
      "outputs": [
        {
          "output_type": "stream",
          "name": "stdout",
          "text": [
            "class1\tclass2\tclass3\tclass4\n",
            "class1\tclass2\tclass3\tclass4\n",
            "20200919.15-00-00.jpg\n",
            "20200919.16-00-00.jpg\n",
            "20200919.17-00-00.jpg\n",
            "20200919.23-00-00.jpg\n",
            "20200920.14-00-00.jpg\n",
            "20200920.15-00-00.jpg\n",
            "20200920.17-00-00.jpg\n",
            "20200920.18-00-00.jpg\n",
            "20200920.19-00-00.jpg\n",
            "20200920.21-00-00.jpg\n",
            "20200919.14-00-00.jpg\n",
            "20200919.22-00-00.jpg\n",
            "20200920.16-00-00.jpg\n",
            "20200920.20-00-00.jpg\n"
          ]
        }
      ]
    },
    {
      "cell_type": "code",
      "source": [
        "from tensorflow.keras.preprocessing.image import ImageDataGenerator\n",
        "\n",
        "train_datagen = ImageDataGenerator(\n",
        "    rescale=1./255,\n",
        "    shear_range=0.2,\n",
        "    zoom_range=0.2,\n",
        "    horizontal_flip=True\n",
        ")\n",
        "\n",
        "val_datagen = ImageDataGenerator(rescale=1./255)\n",
        "\n",
        "train_generator = train_datagen.flow_from_directory(\n",
        "    '/content/drive/MyDrive/dataset_split/train',\n",
        "    target_size=(224, 224),\n",
        "    batch_size=32,\n",
        "    class_mode='categorical'\n",
        ")\n",
        "\n",
        "val_generator = val_datagen.flow_from_directory(\n",
        "    '/content/drive/MyDrive/dataset_split/validation',\n",
        "    target_size=(224, 224),\n",
        "    batch_size=32,\n",
        "    class_mode='categorical'\n",
        ")\n"
      ],
      "metadata": {
        "colab": {
          "base_uri": "https://localhost:8080/"
        },
        "id": "wXzVaIu5k1KD",
        "outputId": "268f106f-49c5-497f-b5a6-0df688987fb6"
      },
      "execution_count": 5,
      "outputs": [
        {
          "output_type": "stream",
          "name": "stdout",
          "text": [
            "Found 81 images belonging to 4 classes.\n",
            "Found 23 images belonging to 4 classes.\n"
          ]
        }
      ]
    },
    {
      "cell_type": "code",
      "source": [
        "import tensorflow as tf\n",
        "from tensorflow.keras.applications import MobileNetV2\n",
        "from tensorflow.keras.applications import ResNet50\n",
        "from tensorflow.keras.layers import Dense, GlobalAveragePooling2D\n",
        "from tensorflow.keras.layers import Dropout\n",
        "from tensorflow.keras.models import Model\n",
        "from tensorflow.keras.optimizers import Adam\n",
        "from tensorflow.keras.preprocessing.image import ImageDataGenerator\n"
      ],
      "metadata": {
        "id": "Em5QUAjflK0b"
      },
      "execution_count": 6,
      "outputs": []
    },
    {
      "cell_type": "code",
      "source": [
        "\n",
        "\n",
        "\n",
        "train_datagen = ImageDataGenerator(\n",
        "    rescale=1./255,\n",
        "    shear_range=0.2,\n",
        "    zoom_range=0.2,\n",
        "    horizontal_flip=True\n",
        ")\n",
        "\n",
        "val_datagen = ImageDataGenerator(rescale=1./255)\n",
        "\n",
        "train_generator = train_datagen.flow_from_directory(\n",
        "    '/content/drive/MyDrive/dataset_split/train',\n",
        "    target_size=(224, 224),\n",
        "    batch_size=32,\n",
        "    class_mode='categorical',\n",
        "    shuffle=True  # Shuffle the training images\n",
        ")\n",
        "\n",
        "val_generator = val_datagen.flow_from_directory(\n",
        "    '/content/drive/MyDrive/dataset_split/validation',\n",
        "    target_size=(224, 224),\n",
        "    batch_size=32,\n",
        "    class_mode='categorical',\n",
        "    shuffle=False  # Do not Shuffle the validation images\n",
        ")\n"
      ],
      "metadata": {
        "colab": {
          "base_uri": "https://localhost:8080/"
        },
        "id": "ypwM7Bl_l9Ii",
        "outputId": "00d4a7df-2185-49df-d04d-13147bfbe3e8"
      },
      "execution_count": 7,
      "outputs": [
        {
          "output_type": "stream",
          "name": "stdout",
          "text": [
            "Found 81 images belonging to 4 classes.\n",
            "Found 23 images belonging to 4 classes.\n"
          ]
        }
      ]
    },
    {
      "cell_type": "code",
      "source": [
        "base_model = MobileNetV2(weights='imagenet', include_top=False)\n",
        "# Load the pre-trained ResNet50 model without the top (fully connected) layers\n",
        "#base_model = ResNet50(weights='imagenet', include_top=False, input_shape=(224, 224, 3))\n",
        "\n",
        "x = base_model.output\n",
        "x = GlobalAveragePooling2D()(x)\n",
        "x = Dense(1024, activation='relu')(x)\n",
        "#x = Dropout(0.5)(x)  # Dropout to prevent overfitting\n",
        "predictions = Dense(4, activation='softmax')(x)  # Assuming 4 classes\n",
        "\n",
        "# Combine base model and custom layers into a new model\n",
        "model = Model(inputs=base_model.input, outputs=predictions)\n",
        "\n",
        "# Freeze the layers of the base model\n",
        "for layer in base_model.layers:\n",
        "    layer.trainable = False\n",
        "\n",
        "# Compile the model\n",
        "model.compile(optimizer=Adam(learning_rate=0.0001), loss='categorical_crossentropy', metrics=['accuracy'])\n"
      ],
      "metadata": {
        "colab": {
          "base_uri": "https://localhost:8080/"
        },
        "id": "vj0KFndzmCIZ",
        "outputId": "b79755c4-36a9-4f6e-d5c8-e8a95db6e45b"
      },
      "execution_count": 8,
      "outputs": [
        {
          "output_type": "stream",
          "name": "stderr",
          "text": [
            "<ipython-input-8-0cfa4d29dbf6>:1: UserWarning: `input_shape` is undefined or non-square, or `rows` is not in [96, 128, 160, 192, 224]. Weights for input shape (224, 224) will be loaded as the default.\n",
            "  base_model = MobileNetV2(weights='imagenet', include_top=False)\n"
          ]
        },
        {
          "output_type": "stream",
          "name": "stdout",
          "text": [
            "Downloading data from https://storage.googleapis.com/tensorflow/keras-applications/mobilenet_v2/mobilenet_v2_weights_tf_dim_ordering_tf_kernels_1.0_224_no_top.h5\n",
            "\u001b[1m9406464/9406464\u001b[0m \u001b[32m━━━━━━━━━━━━━━━━━━━━\u001b[0m\u001b[37m\u001b[0m \u001b[1m0s\u001b[0m 0us/step\n"
          ]
        }
      ]
    },
    {
      "cell_type": "code",
      "source": [
        "import tensorflow as tf\n",
        "from tensorflow.keras.callbacks import ModelCheckpoint\n",
        "\n",
        "# Define the path in Google Drive where you want to save the model\n",
        "model_save_path = '/content/drive/MyDrive/sky_classification_model_best_acc.keras'\n",
        "\n",
        "# Create a ModelCheckpoint callback to save the best model\n",
        "checkpoint_callback = ModelCheckpoint(\n",
        "    filepath=model_save_path,     # Saves to your Google Drive\n",
        "    monitor='val_loss',           # Or 'val_accuracy', depending on what you prefer\n",
        "    save_best_only=True,          # Only save if the metric improves\n",
        "    mode='min',                   # Use 'min' if you're monitoring val_loss, 'max' if val_accuracy\n",
        "    verbose=1                     # Print a message when saving\n",
        ")\n",
        "\n",
        "# Fit the model with the checkpoint callback\n",
        "history = model.fit(\n",
        "    train_generator,\n",
        "    epochs=30,\n",
        "    validation_data=val_generator,\n",
        "    callbacks=[checkpoint_callback]\n",
        ")\n",
        "\n",
        "print(f\"Best model will be saved (if improved) at: {model_save_path}\")\n",
        "\n",
        "\n"
      ],
      "metadata": {
        "colab": {
          "base_uri": "https://localhost:8080/"
        },
        "id": "9toC5GfBmODB",
        "outputId": "afa74c14-1727-4178-a3cb-7d37252b7d89"
      },
      "execution_count": 9,
      "outputs": [
        {
          "output_type": "stream",
          "name": "stdout",
          "text": [
            "Epoch 1/30\n"
          ]
        },
        {
          "output_type": "stream",
          "name": "stderr",
          "text": [
            "/usr/local/lib/python3.10/dist-packages/keras/src/trainers/data_adapters/py_dataset_adapter.py:122: UserWarning: Your `PyDataset` class should call `super().__init__(**kwargs)` in its constructor. `**kwargs` can include `workers`, `use_multiprocessing`, `max_queue_size`. Do not pass these arguments to `fit()`, as they will be ignored.\n",
            "  self._warn_if_super_not_called()\n"
          ]
        },
        {
          "output_type": "stream",
          "name": "stdout",
          "text": [
            "\u001b[1m3/3\u001b[0m \u001b[32m━━━━━━━━━━━━━━━━━━━━\u001b[0m\u001b[37m\u001b[0m \u001b[1m0s\u001b[0m 984ms/step - accuracy: 0.4201 - loss: 1.2423\n",
            "Epoch 1: val_loss improved from inf to 1.09610, saving model to /content/drive/MyDrive/sky_classification_model_best_acc.keras\n",
            "\u001b[1m3/3\u001b[0m \u001b[32m━━━━━━━━━━━━━━━━━━━━\u001b[0m\u001b[37m\u001b[0m \u001b[1m18s\u001b[0m 4s/step - accuracy: 0.4231 - loss: 1.2373 - val_accuracy: 0.5652 - val_loss: 1.0961\n",
            "Epoch 2/30\n",
            "\u001b[1m3/3\u001b[0m \u001b[32m━━━━━━━━━━━━━━━━━━━━\u001b[0m\u001b[37m\u001b[0m \u001b[1m0s\u001b[0m 901ms/step - accuracy: 0.5621 - loss: 0.9699\n",
            "Epoch 2: val_loss improved from 1.09610 to 0.92505, saving model to /content/drive/MyDrive/sky_classification_model_best_acc.keras\n",
            "\u001b[1m3/3\u001b[0m \u001b[32m━━━━━━━━━━━━━━━━━━━━\u001b[0m\u001b[37m\u001b[0m \u001b[1m17s\u001b[0m 2s/step - accuracy: 0.5697 - loss: 0.9644 - val_accuracy: 0.5652 - val_loss: 0.9251\n",
            "Epoch 3/30\n",
            "\u001b[1m3/3\u001b[0m \u001b[32m━━━━━━━━━━━━━━━━━━━━\u001b[0m\u001b[37m\u001b[0m \u001b[1m0s\u001b[0m 1s/step - accuracy: 0.5711 - loss: 0.9718   \n",
            "Epoch 3: val_loss improved from 0.92505 to 0.83102, saving model to /content/drive/MyDrive/sky_classification_model_best_acc.keras\n",
            "\u001b[1m3/3\u001b[0m \u001b[32m━━━━━━━━━━━━━━━━━━━━\u001b[0m\u001b[37m\u001b[0m \u001b[1m7s\u001b[0m 2s/step - accuracy: 0.5888 - loss: 0.9473 - val_accuracy: 0.6522 - val_loss: 0.8310\n",
            "Epoch 4/30\n",
            "\u001b[1m3/3\u001b[0m \u001b[32m━━━━━━━━━━━━━━━━━━━━\u001b[0m\u001b[37m\u001b[0m \u001b[1m0s\u001b[0m 1s/step - accuracy: 0.7472 - loss: 0.6379\n",
            "Epoch 4: val_loss improved from 0.83102 to 0.74230, saving model to /content/drive/MyDrive/sky_classification_model_best_acc.keras\n",
            "\u001b[1m3/3\u001b[0m \u001b[32m━━━━━━━━━━━━━━━━━━━━\u001b[0m\u001b[37m\u001b[0m \u001b[1m10s\u001b[0m 2s/step - accuracy: 0.7363 - loss: 0.6511 - val_accuracy: 0.6957 - val_loss: 0.7423\n",
            "Epoch 5/30\n",
            "\u001b[1m3/3\u001b[0m \u001b[32m━━━━━━━━━━━━━━━━━━━━\u001b[0m\u001b[37m\u001b[0m \u001b[1m0s\u001b[0m 1s/step - accuracy: 0.8092 - loss: 0.6157\n",
            "Epoch 5: val_loss improved from 0.74230 to 0.70882, saving model to /content/drive/MyDrive/sky_classification_model_best_acc.keras\n",
            "\u001b[1m3/3\u001b[0m \u001b[32m━━━━━━━━━━━━━━━━━━━━\u001b[0m\u001b[37m\u001b[0m \u001b[1m9s\u001b[0m 3s/step - accuracy: 0.8075 - loss: 0.6144 - val_accuracy: 0.7826 - val_loss: 0.7088\n",
            "Epoch 6/30\n",
            "\u001b[1m3/3\u001b[0m \u001b[32m━━━━━━━━━━━━━━━━━━━━\u001b[0m\u001b[37m\u001b[0m \u001b[1m0s\u001b[0m 912ms/step - accuracy: 0.7760 - loss: 0.6410\n",
            "Epoch 6: val_loss improved from 0.70882 to 0.63403, saving model to /content/drive/MyDrive/sky_classification_model_best_acc.keras\n",
            "\u001b[1m3/3\u001b[0m \u001b[32m━━━━━━━━━━━━━━━━━━━━\u001b[0m\u001b[37m\u001b[0m \u001b[1m6s\u001b[0m 2s/step - accuracy: 0.7826 - loss: 0.6270 - val_accuracy: 0.8261 - val_loss: 0.6340\n",
            "Epoch 7/30\n",
            "\u001b[1m3/3\u001b[0m \u001b[32m━━━━━━━━━━━━━━━━━━━━\u001b[0m\u001b[37m\u001b[0m \u001b[1m0s\u001b[0m 2s/step - accuracy: 0.8145 - loss: 0.5072\n",
            "Epoch 7: val_loss improved from 0.63403 to 0.57469, saving model to /content/drive/MyDrive/sky_classification_model_best_acc.keras\n",
            "\u001b[1m3/3\u001b[0m \u001b[32m━━━━━━━━━━━━━━━━━━━━\u001b[0m\u001b[37m\u001b[0m \u001b[1m9s\u001b[0m 3s/step - accuracy: 0.8146 - loss: 0.5080 - val_accuracy: 0.8261 - val_loss: 0.5747\n",
            "Epoch 8/30\n",
            "\u001b[1m3/3\u001b[0m \u001b[32m━━━━━━━━━━━━━━━━━━━━\u001b[0m\u001b[37m\u001b[0m \u001b[1m0s\u001b[0m 938ms/step - accuracy: 0.7224 - loss: 0.6118\n",
            "Epoch 8: val_loss improved from 0.57469 to 0.55998, saving model to /content/drive/MyDrive/sky_classification_model_best_acc.keras\n",
            "\u001b[1m3/3\u001b[0m \u001b[32m━━━━━━━━━━━━━━━━━━━━\u001b[0m\u001b[37m\u001b[0m \u001b[1m7s\u001b[0m 2s/step - accuracy: 0.7332 - loss: 0.5956 - val_accuracy: 0.9130 - val_loss: 0.5600\n",
            "Epoch 9/30\n",
            "\u001b[1m3/3\u001b[0m \u001b[32m━━━━━━━━━━━━━━━━━━━━\u001b[0m\u001b[37m\u001b[0m \u001b[1m0s\u001b[0m 918ms/step - accuracy: 0.8133 - loss: 0.4739\n",
            "Epoch 9: val_loss did not improve from 0.55998\n",
            "\u001b[1m3/3\u001b[0m \u001b[32m━━━━━━━━━━━━━━━━━━━━\u001b[0m\u001b[37m\u001b[0m \u001b[1m10s\u001b[0m 2s/step - accuracy: 0.8137 - loss: 0.4692 - val_accuracy: 0.8696 - val_loss: 0.5681\n",
            "Epoch 10/30\n",
            "\u001b[1m3/3\u001b[0m \u001b[32m━━━━━━━━━━━━━━━━━━━━\u001b[0m\u001b[37m\u001b[0m \u001b[1m0s\u001b[0m 896ms/step - accuracy: 0.7915 - loss: 0.5427\n",
            "Epoch 10: val_loss improved from 0.55998 to 0.53293, saving model to /content/drive/MyDrive/sky_classification_model_best_acc.keras\n",
            "\u001b[1m3/3\u001b[0m \u001b[32m━━━━━━━━━━━━━━━━━━━━\u001b[0m\u001b[37m\u001b[0m \u001b[1m6s\u001b[0m 2s/step - accuracy: 0.8035 - loss: 0.5189 - val_accuracy: 0.8696 - val_loss: 0.5329\n",
            "Epoch 11/30\n",
            "\u001b[1m3/3\u001b[0m \u001b[32m━━━━━━━━━━━━━━━━━━━━\u001b[0m\u001b[37m\u001b[0m \u001b[1m0s\u001b[0m 908ms/step - accuracy: 0.8832 - loss: 0.3997\n",
            "Epoch 11: val_loss improved from 0.53293 to 0.48616, saving model to /content/drive/MyDrive/sky_classification_model_best_acc.keras\n",
            "\u001b[1m3/3\u001b[0m \u001b[32m━━━━━━━━━━━━━━━━━━━━\u001b[0m\u001b[37m\u001b[0m \u001b[1m8s\u001b[0m 2s/step - accuracy: 0.8815 - loss: 0.4048 - val_accuracy: 0.8696 - val_loss: 0.4862\n",
            "Epoch 12/30\n",
            "\u001b[1m3/3\u001b[0m \u001b[32m━━━━━━━━━━━━━━━━━━━━\u001b[0m\u001b[37m\u001b[0m \u001b[1m0s\u001b[0m 1s/step - accuracy: 0.8838 - loss: 0.3427\n",
            "Epoch 12: val_loss improved from 0.48616 to 0.46138, saving model to /content/drive/MyDrive/sky_classification_model_best_acc.keras\n",
            "\u001b[1m3/3\u001b[0m \u001b[32m━━━━━━━━━━━━━━━━━━━━\u001b[0m\u001b[37m\u001b[0m \u001b[1m6s\u001b[0m 2s/step - accuracy: 0.8666 - loss: 0.3573 - val_accuracy: 0.8696 - val_loss: 0.4614\n",
            "Epoch 13/30\n",
            "\u001b[1m3/3\u001b[0m \u001b[32m━━━━━━━━━━━━━━━━━━━━\u001b[0m\u001b[37m\u001b[0m \u001b[1m0s\u001b[0m 1s/step - accuracy: 0.8509 - loss: 0.3422\n",
            "Epoch 13: val_loss did not improve from 0.46138\n",
            "\u001b[1m3/3\u001b[0m \u001b[32m━━━━━━━━━━━━━━━━━━━━\u001b[0m\u001b[37m\u001b[0m \u001b[1m8s\u001b[0m 2s/step - accuracy: 0.8511 - loss: 0.3479 - val_accuracy: 0.9130 - val_loss: 0.4657\n",
            "Epoch 14/30\n",
            "\u001b[1m3/3\u001b[0m \u001b[32m━━━━━━━━━━━━━━━━━━━━\u001b[0m\u001b[37m\u001b[0m \u001b[1m0s\u001b[0m 912ms/step - accuracy: 0.8766 - loss: 0.3855\n",
            "Epoch 14: val_loss did not improve from 0.46138\n",
            "\u001b[1m3/3\u001b[0m \u001b[32m━━━━━━━━━━━━━━━━━━━━\u001b[0m\u001b[37m\u001b[0m \u001b[1m6s\u001b[0m 1s/step - accuracy: 0.8735 - loss: 0.3927 - val_accuracy: 0.8696 - val_loss: 0.4748\n",
            "Epoch 15/30\n",
            "\u001b[1m3/3\u001b[0m \u001b[32m━━━━━━━━━━━━━━━━━━━━\u001b[0m\u001b[37m\u001b[0m \u001b[1m0s\u001b[0m 1s/step - accuracy: 0.8662 - loss: 0.3653\n",
            "Epoch 15: val_loss improved from 0.46138 to 0.43452, saving model to /content/drive/MyDrive/sky_classification_model_best_acc.keras\n",
            "\u001b[1m3/3\u001b[0m \u001b[32m━━━━━━━━━━━━━━━━━━━━\u001b[0m\u001b[37m\u001b[0m \u001b[1m11s\u001b[0m 2s/step - accuracy: 0.8657 - loss: 0.3659 - val_accuracy: 0.9130 - val_loss: 0.4345\n",
            "Epoch 16/30\n",
            "\u001b[1m3/3\u001b[0m \u001b[32m━━━━━━━━━━━━━━━━━━━━\u001b[0m\u001b[37m\u001b[0m \u001b[1m0s\u001b[0m 969ms/step - accuracy: 0.9109 - loss: 0.3249\n",
            "Epoch 16: val_loss improved from 0.43452 to 0.41036, saving model to /content/drive/MyDrive/sky_classification_model_best_acc.keras\n",
            "\u001b[1m3/3\u001b[0m \u001b[32m━━━━━━━━━━━━━━━━━━━━\u001b[0m\u001b[37m\u001b[0m \u001b[1m7s\u001b[0m 2s/step - accuracy: 0.9054 - loss: 0.3299 - val_accuracy: 0.9565 - val_loss: 0.4104\n",
            "Epoch 17/30\n",
            "\u001b[1m3/3\u001b[0m \u001b[32m━━━━━━━━━━━━━━━━━━━━\u001b[0m\u001b[37m\u001b[0m \u001b[1m0s\u001b[0m 1s/step - accuracy: 0.8178 - loss: 0.4443\n",
            "Epoch 17: val_loss improved from 0.41036 to 0.40626, saving model to /content/drive/MyDrive/sky_classification_model_best_acc.keras\n",
            "\u001b[1m3/3\u001b[0m \u001b[32m━━━━━━━━━━━━━━━━━━━━\u001b[0m\u001b[37m\u001b[0m \u001b[1m7s\u001b[0m 2s/step - accuracy: 0.8263 - loss: 0.4256 - val_accuracy: 0.9130 - val_loss: 0.4063\n",
            "Epoch 18/30\n",
            "\u001b[1m3/3\u001b[0m \u001b[32m━━━━━━━━━━━━━━━━━━━━\u001b[0m\u001b[37m\u001b[0m \u001b[1m0s\u001b[0m 2s/step - accuracy: 0.8769 - loss: 0.3328\n",
            "Epoch 18: val_loss improved from 0.40626 to 0.40462, saving model to /content/drive/MyDrive/sky_classification_model_best_acc.keras\n",
            "\u001b[1m3/3\u001b[0m \u001b[32m━━━━━━━━━━━━━━━━━━━━\u001b[0m\u001b[37m\u001b[0m \u001b[1m12s\u001b[0m 2s/step - accuracy: 0.8799 - loss: 0.3268 - val_accuracy: 0.9130 - val_loss: 0.4046\n",
            "Epoch 19/30\n",
            "\u001b[1m3/3\u001b[0m \u001b[32m━━━━━━━━━━━━━━━━━━━━\u001b[0m\u001b[37m\u001b[0m \u001b[1m0s\u001b[0m 897ms/step - accuracy: 0.8873 - loss: 0.3391\n",
            "Epoch 19: val_loss did not improve from 0.40462\n",
            "\u001b[1m3/3\u001b[0m \u001b[32m━━━━━━━━━━━━━━━━━━━━\u001b[0m\u001b[37m\u001b[0m \u001b[1m8s\u001b[0m 1s/step - accuracy: 0.8877 - loss: 0.3369 - val_accuracy: 0.8696 - val_loss: 0.4221\n",
            "Epoch 20/30\n",
            "\u001b[1m3/3\u001b[0m \u001b[32m━━━━━━━━━━━━━━━━━━━━\u001b[0m\u001b[37m\u001b[0m \u001b[1m0s\u001b[0m 901ms/step - accuracy: 0.8879 - loss: 0.3607\n",
            "Epoch 20: val_loss improved from 0.40462 to 0.39162, saving model to /content/drive/MyDrive/sky_classification_model_best_acc.keras\n",
            "\u001b[1m3/3\u001b[0m \u001b[32m━━━━━━━━━━━━━━━━━━━━\u001b[0m\u001b[37m\u001b[0m \u001b[1m10s\u001b[0m 2s/step - accuracy: 0.8943 - loss: 0.3481 - val_accuracy: 0.9130 - val_loss: 0.3916\n",
            "Epoch 21/30\n",
            "\u001b[1m3/3\u001b[0m \u001b[32m━━━━━━━━━━━━━━━━━━━━\u001b[0m\u001b[37m\u001b[0m \u001b[1m0s\u001b[0m 1s/step - accuracy: 0.8873 - loss: 0.2833   \n",
            "Epoch 21: val_loss improved from 0.39162 to 0.37982, saving model to /content/drive/MyDrive/sky_classification_model_best_acc.keras\n",
            "\u001b[1m3/3\u001b[0m \u001b[32m━━━━━━━━━━━━━━━━━━━━\u001b[0m\u001b[37m\u001b[0m \u001b[1m8s\u001b[0m 2s/step - accuracy: 0.8877 - loss: 0.2917 - val_accuracy: 0.9565 - val_loss: 0.3798\n",
            "Epoch 22/30\n",
            "\u001b[1m3/3\u001b[0m \u001b[32m━━━━━━━━━━━━━━━━━━━━\u001b[0m\u001b[37m\u001b[0m \u001b[1m0s\u001b[0m 1s/step - accuracy: 0.9549 - loss: 0.2939\n",
            "Epoch 22: val_loss improved from 0.37982 to 0.37684, saving model to /content/drive/MyDrive/sky_classification_model_best_acc.keras\n",
            "\u001b[1m3/3\u001b[0m \u001b[32m━━━━━━━━━━━━━━━━━━━━\u001b[0m\u001b[37m\u001b[0m \u001b[1m7s\u001b[0m 2s/step - accuracy: 0.9477 - loss: 0.2963 - val_accuracy: 0.9130 - val_loss: 0.3768\n",
            "Epoch 23/30\n",
            "\u001b[1m3/3\u001b[0m \u001b[32m━━━━━━━━━━━━━━━━━━━━\u001b[0m\u001b[37m\u001b[0m \u001b[1m0s\u001b[0m 1s/step - accuracy: 0.9430 - loss: 0.2522\n",
            "Epoch 23: val_loss improved from 0.37684 to 0.37191, saving model to /content/drive/MyDrive/sky_classification_model_best_acc.keras\n",
            "\u001b[1m3/3\u001b[0m \u001b[32m━━━━━━━━━━━━━━━━━━━━\u001b[0m\u001b[37m\u001b[0m \u001b[1m8s\u001b[0m 3s/step - accuracy: 0.9418 - loss: 0.2527 - val_accuracy: 0.9130 - val_loss: 0.3719\n",
            "Epoch 24/30\n",
            "\u001b[1m3/3\u001b[0m \u001b[32m━━━━━━━━━━━━━━━━━━━━\u001b[0m\u001b[37m\u001b[0m \u001b[1m0s\u001b[0m 915ms/step - accuracy: 0.9486 - loss: 0.2469\n",
            "Epoch 24: val_loss improved from 0.37191 to 0.36425, saving model to /content/drive/MyDrive/sky_classification_model_best_acc.keras\n",
            "\u001b[1m3/3\u001b[0m \u001b[32m━━━━━━━━━━━━━━━━━━━━\u001b[0m\u001b[37m\u001b[0m \u001b[1m6s\u001b[0m 2s/step - accuracy: 0.9460 - loss: 0.2499 - val_accuracy: 0.9130 - val_loss: 0.3643\n",
            "Epoch 25/30\n",
            "\u001b[1m3/3\u001b[0m \u001b[32m━━━━━━━━━━━━━━━━━━━━\u001b[0m\u001b[37m\u001b[0m \u001b[1m0s\u001b[0m 1s/step - accuracy: 0.9130 - loss: 0.3060\n",
            "Epoch 25: val_loss improved from 0.36425 to 0.35808, saving model to /content/drive/MyDrive/sky_classification_model_best_acc.keras\n",
            "\u001b[1m3/3\u001b[0m \u001b[32m━━━━━━━━━━━━━━━━━━━━\u001b[0m\u001b[37m\u001b[0m \u001b[1m7s\u001b[0m 2s/step - accuracy: 0.9193 - loss: 0.2894 - val_accuracy: 0.9130 - val_loss: 0.3581\n",
            "Epoch 26/30\n",
            "\u001b[1m3/3\u001b[0m \u001b[32m━━━━━━━━━━━━━━━━━━━━\u001b[0m\u001b[37m\u001b[0m \u001b[1m0s\u001b[0m 948ms/step - accuracy: 0.9430 - loss: 0.2326\n",
            "Epoch 26: val_loss improved from 0.35808 to 0.35328, saving model to /content/drive/MyDrive/sky_classification_model_best_acc.keras\n",
            "\u001b[1m3/3\u001b[0m \u001b[32m━━━━━━━━━━━━━━━━━━━━\u001b[0m\u001b[37m\u001b[0m \u001b[1m9s\u001b[0m 2s/step - accuracy: 0.9418 - loss: 0.2350 - val_accuracy: 0.9565 - val_loss: 0.3533\n",
            "Epoch 27/30\n",
            "\u001b[1m3/3\u001b[0m \u001b[32m━━━━━━━━━━━━━━━━━━━━\u001b[0m\u001b[37m\u001b[0m \u001b[1m0s\u001b[0m 972ms/step - accuracy: 0.9360 - loss: 0.2455\n",
            "Epoch 27: val_loss improved from 0.35328 to 0.34961, saving model to /content/drive/MyDrive/sky_classification_model_best_acc.keras\n",
            "\u001b[1m3/3\u001b[0m \u001b[32m━━━━━━━━━━━━━━━━━━━━\u001b[0m\u001b[37m\u001b[0m \u001b[1m11s\u001b[0m 2s/step - accuracy: 0.9427 - loss: 0.2414 - val_accuracy: 0.9130 - val_loss: 0.3496\n",
            "Epoch 28/30\n",
            "\u001b[1m3/3\u001b[0m \u001b[32m━━━━━━━━━━━━━━━━━━━━\u001b[0m\u001b[37m\u001b[0m \u001b[1m0s\u001b[0m 2s/step - accuracy: 0.9462 - loss: 0.2310\n",
            "Epoch 28: val_loss did not improve from 0.34961\n",
            "\u001b[1m3/3\u001b[0m \u001b[32m━━━━━━━━━━━━━━━━━━━━\u001b[0m\u001b[37m\u001b[0m \u001b[1m11s\u001b[0m 2s/step - accuracy: 0.9442 - loss: 0.2305 - val_accuracy: 0.8696 - val_loss: 0.3517\n",
            "Epoch 29/30\n",
            "\u001b[1m3/3\u001b[0m \u001b[32m━━━━━━━━━━━━━━━━━━━━\u001b[0m\u001b[37m\u001b[0m \u001b[1m0s\u001b[0m 890ms/step - accuracy: 0.9336 - loss: 0.2628\n",
            "Epoch 29: val_loss improved from 0.34961 to 0.34303, saving model to /content/drive/MyDrive/sky_classification_model_best_acc.keras\n",
            "\u001b[1m3/3\u001b[0m \u001b[32m━━━━━━━━━━━━━━━━━━━━\u001b[0m\u001b[37m\u001b[0m \u001b[1m9s\u001b[0m 2s/step - accuracy: 0.9317 - loss: 0.2627 - val_accuracy: 0.8696 - val_loss: 0.3430\n",
            "Epoch 30/30\n",
            "\u001b[1m3/3\u001b[0m \u001b[32m━━━━━━━━━━━━━━━━━━━━\u001b[0m\u001b[37m\u001b[0m \u001b[1m0s\u001b[0m 2s/step - accuracy: 0.9217 - loss: 0.2594\n",
            "Epoch 30: val_loss improved from 0.34303 to 0.33492, saving model to /content/drive/MyDrive/sky_classification_model_best_acc.keras\n",
            "\u001b[1m3/3\u001b[0m \u001b[32m━━━━━━━━━━━━━━━━━━━━\u001b[0m\u001b[37m\u001b[0m \u001b[1m8s\u001b[0m 2s/step - accuracy: 0.9227 - loss: 0.2584 - val_accuracy: 0.9130 - val_loss: 0.3349\n",
            "Best model will be saved (if improved) at: /content/drive/MyDrive/sky_classification_model_best_acc.keras\n"
          ]
        }
      ]
    },
    {
      "cell_type": "code",
      "source": [
        "# Evaluate the model\n",
        "loss, accuracy = model.evaluate(val_generator)\n",
        "print(f'Validation Accuracy: {accuracy*100:.2f}%')\n",
        "\n",
        "# Save the model\n",
        "#model.save('sky_classification_model.h5')\n"
      ],
      "metadata": {
        "colab": {
          "base_uri": "https://localhost:8080/"
        },
        "id": "YgDyJzC_mgir",
        "outputId": "aaa9feb2-e9cd-4083-b51a-c4a2010b6085"
      },
      "execution_count": 11,
      "outputs": [
        {
          "output_type": "stream",
          "name": "stdout",
          "text": [
            "\u001b[1m1/1\u001b[0m \u001b[32m━━━━━━━━━━━━━━━━━━━━\u001b[0m\u001b[37m\u001b[0m \u001b[1m1s\u001b[0m 1s/step - accuracy: 0.9130 - loss: 0.3349\n",
            "Validation Accuracy: 91.30%\n"
          ]
        }
      ]
    },
    {
      "cell_type": "code",
      "source": [
        "# Save the model in the recommended format\n",
        "# Define the path in Google Drive where you want to save the model\n",
        "#model_save_path = '/content/drive/MyDrive/sky_classification_model_100percentval_acc.keras'\n",
        "\n",
        "# Save the Keras model in TensorFlow’s native format\n",
        "#model.save(model_save_path, save_format='keras')\n",
        "\n",
        "#print(f\"Model saved to: {model_save_path}\")\n",
        "\n",
        "#!ls /content/drive/MyDrive/\n",
        "\n",
        "\n"
      ],
      "metadata": {
        "id": "B4VY03urm-Pq",
        "colab": {
          "base_uri": "https://localhost:8080/"
        },
        "outputId": "acbcacc8-ea43-4716-ace5-7195124ea234"
      },
      "execution_count": null,
      "outputs": [
        {
          "output_type": "stream",
          "name": "stderr",
          "text": [
            "WARNING:absl:The `save_format` argument is deprecated in Keras 3. We recommend removing this argument as it can be inferred from the file path. Received: save_format=keras\n"
          ]
        },
        {
          "output_type": "stream",
          "name": "stdout",
          "text": [
            "Model saved to: /content/drive/MyDrive/sky_classification_model_100percentval_acc.keras\n",
            " 20dec06.apinene.dilution.size.dist.gsheet\n",
            " A52_H_07_Zelenyuk.pptx\n",
            " Aarav_MidColumbia_ScienceFair_Wildfires.gslides\n",
            "'Aarav_presentation 1.gslides'\n",
            " Aarav_presentation_final_2024.gslides\n",
            "'AMZ SVTAG shareable 190306 IOP2 tracers for Manish.gsheet'\n",
            " ARM-AMF2-Proposal\n",
            " best_model.keras\n",
            "'Colab Notebooks'\n",
            "'Copy of MS_response_SOA.gdoc'\n",
            "'Copy of NCAT-CRC Proposal Draft #2.docx'\n",
            " dataset\n",
            " dataset_split\n",
            "'FACL_Shrivastava_Wu_23367 revised.gdoc'\n",
            " Figure_AQI_1.gdraw\n",
            " Figures_v1.gdoc\n",
            " GRC_Les_Diablerets_Manish.zip\n",
            " labels.txt.gdoc\n",
            "'manish est.pdf'\n",
            " ManishShrivastava_Seminar_2024.pptx\n",
            " MANISH_SHRIVESTAVA_REPAIRS.PDF\n",
            " Manuscript_v1.gdoc\n",
            " model.tflite\n",
            " MS_CAM_reviews\n",
            " mshrivastava_pic.jpeg\n",
            "'New folder.zip'\n",
            "'poster_RE3_Shrivastava_final (1).gslides'\n",
            " poster_RE3_Shrivastava_final.gslides\n",
            " Preetipic.jpg\n",
            "'Project proposal.gdoc'\n",
            "'Responses of Shrivastava et al. Rev. Geophys..gdoc'\n",
            " Ropes.zip\n",
            " Shrivastava_ASR_Plenary_2023.pptx\n",
            "'Shrivastava PV Proposal (25).pdf'\n",
            "'Shrivastava PV Proposal (27).pdf'\n",
            " sky_classification_model_100percentval_acc.keras\n",
            " sky_classification_model.keras\n",
            " SR2111220702533.pdf\n",
            "'Summer School Bus Schedule.pdf'\n",
            " training_validation_plots.pdf\n",
            "'Trial1 (1).gsheet'\n",
            " Trial1.gsheet\n",
            " Untitled-1.jpg\n",
            "'Untitled document (1).gdoc'\n",
            "'Untitled document (2).gdoc'\n",
            "'Untitled document.gdoc'\n",
            "'Untitled spreadsheet (1).gsheet'\n",
            "'Untitled spreadsheet.gsheet'\n",
            " USASP0CBE215.pdf\n",
            " voice-message.wav\n",
            " winmail.dat\n",
            "'Your big idea.gslides'\n"
          ]
        }
      ]
    },
    {
      "cell_type": "code",
      "source": [],
      "metadata": {
        "id": "SahOr70ieilR"
      },
      "execution_count": null,
      "outputs": []
    },
    {
      "cell_type": "code",
      "source": [
        "import tensorflow as tf\n",
        "from tensorflow.keras.applications import MobileNetV2\n",
        "from tensorflow.keras.applications import ResNet50\n",
        "from tensorflow.keras.layers import Dense, GlobalAveragePooling2D\n",
        "from tensorflow.keras.layers import Dropout\n",
        "from tensorflow.keras.models import Model\n",
        "from tensorflow.keras.optimizers import Adam\n",
        "from tensorflow.keras.preprocessing.image import ImageDataGenerator\n",
        "\n",
        "# Load the saved model from Google Drive\n",
        "model = tf.keras.models.load_model('/content/drive/MyDrive/sky_classification_model_best_acc.keras')  # or .keras\n"
      ],
      "metadata": {
        "id": "T0RgVC-f1Bup"
      },
      "execution_count": 12,
      "outputs": []
    },
    {
      "cell_type": "code",
      "source": [
        "from PIL import Image\n",
        "import numpy as np\n",
        "\n",
        "# Upload the image to Google Colab\n",
        "from google.colab import files\n",
        "uploaded = files.upload()  # This will prompt you to upload an image file\n",
        "\n",
        "# Load and preprocess the image\n",
        "image = Image.open(list(uploaded.keys())[0])  # Open the uploaded image\n",
        "image = image.resize((224, 224))  # Resize image to match model input size\n",
        "\n",
        "# Convert the image to a NumPy array and normalize (scale pixel values to [0, 1])\n",
        "image_array = np.array(image) / 255.0\n",
        "\n",
        "# Add a batch dimension (because the model expects input with shape [batch_size, height, width, channels])\n",
        "image_array = np.expand_dims(image_array, axis=0)\n",
        "\n",
        "print(f\"Image shape after preprocessing: {image_array.shape}\")\n"
      ],
      "metadata": {
        "colab": {
          "base_uri": "https://localhost:8080/",
          "height": 91
        },
        "id": "wxqO0XixrgOe",
        "outputId": "21e209b4-c962-4404-f21e-600f076387a1"
      },
      "execution_count": 21,
      "outputs": [
        {
          "output_type": "display_data",
          "data": {
            "text/plain": [
              "<IPython.core.display.HTML object>"
            ],
            "text/html": [
              "\n",
              "     <input type=\"file\" id=\"files-3442b9ca-da64-45ac-8ba1-27c3efdc2a26\" name=\"files[]\" multiple disabled\n",
              "        style=\"border:none\" />\n",
              "     <output id=\"result-3442b9ca-da64-45ac-8ba1-27c3efdc2a26\">\n",
              "      Upload widget is only available when the cell has been executed in the\n",
              "      current browser session. Please rerun this cell to enable.\n",
              "      </output>\n",
              "      <script>// Copyright 2017 Google LLC\n",
              "//\n",
              "// Licensed under the Apache License, Version 2.0 (the \"License\");\n",
              "// you may not use this file except in compliance with the License.\n",
              "// You may obtain a copy of the License at\n",
              "//\n",
              "//      http://www.apache.org/licenses/LICENSE-2.0\n",
              "//\n",
              "// Unless required by applicable law or agreed to in writing, software\n",
              "// distributed under the License is distributed on an \"AS IS\" BASIS,\n",
              "// WITHOUT WARRANTIES OR CONDITIONS OF ANY KIND, either express or implied.\n",
              "// See the License for the specific language governing permissions and\n",
              "// limitations under the License.\n",
              "\n",
              "/**\n",
              " * @fileoverview Helpers for google.colab Python module.\n",
              " */\n",
              "(function(scope) {\n",
              "function span(text, styleAttributes = {}) {\n",
              "  const element = document.createElement('span');\n",
              "  element.textContent = text;\n",
              "  for (const key of Object.keys(styleAttributes)) {\n",
              "    element.style[key] = styleAttributes[key];\n",
              "  }\n",
              "  return element;\n",
              "}\n",
              "\n",
              "// Max number of bytes which will be uploaded at a time.\n",
              "const MAX_PAYLOAD_SIZE = 100 * 1024;\n",
              "\n",
              "function _uploadFiles(inputId, outputId) {\n",
              "  const steps = uploadFilesStep(inputId, outputId);\n",
              "  const outputElement = document.getElementById(outputId);\n",
              "  // Cache steps on the outputElement to make it available for the next call\n",
              "  // to uploadFilesContinue from Python.\n",
              "  outputElement.steps = steps;\n",
              "\n",
              "  return _uploadFilesContinue(outputId);\n",
              "}\n",
              "\n",
              "// This is roughly an async generator (not supported in the browser yet),\n",
              "// where there are multiple asynchronous steps and the Python side is going\n",
              "// to poll for completion of each step.\n",
              "// This uses a Promise to block the python side on completion of each step,\n",
              "// then passes the result of the previous step as the input to the next step.\n",
              "function _uploadFilesContinue(outputId) {\n",
              "  const outputElement = document.getElementById(outputId);\n",
              "  const steps = outputElement.steps;\n",
              "\n",
              "  const next = steps.next(outputElement.lastPromiseValue);\n",
              "  return Promise.resolve(next.value.promise).then((value) => {\n",
              "    // Cache the last promise value to make it available to the next\n",
              "    // step of the generator.\n",
              "    outputElement.lastPromiseValue = value;\n",
              "    return next.value.response;\n",
              "  });\n",
              "}\n",
              "\n",
              "/**\n",
              " * Generator function which is called between each async step of the upload\n",
              " * process.\n",
              " * @param {string} inputId Element ID of the input file picker element.\n",
              " * @param {string} outputId Element ID of the output display.\n",
              " * @return {!Iterable<!Object>} Iterable of next steps.\n",
              " */\n",
              "function* uploadFilesStep(inputId, outputId) {\n",
              "  const inputElement = document.getElementById(inputId);\n",
              "  inputElement.disabled = false;\n",
              "\n",
              "  const outputElement = document.getElementById(outputId);\n",
              "  outputElement.innerHTML = '';\n",
              "\n",
              "  const pickedPromise = new Promise((resolve) => {\n",
              "    inputElement.addEventListener('change', (e) => {\n",
              "      resolve(e.target.files);\n",
              "    });\n",
              "  });\n",
              "\n",
              "  const cancel = document.createElement('button');\n",
              "  inputElement.parentElement.appendChild(cancel);\n",
              "  cancel.textContent = 'Cancel upload';\n",
              "  const cancelPromise = new Promise((resolve) => {\n",
              "    cancel.onclick = () => {\n",
              "      resolve(null);\n",
              "    };\n",
              "  });\n",
              "\n",
              "  // Wait for the user to pick the files.\n",
              "  const files = yield {\n",
              "    promise: Promise.race([pickedPromise, cancelPromise]),\n",
              "    response: {\n",
              "      action: 'starting',\n",
              "    }\n",
              "  };\n",
              "\n",
              "  cancel.remove();\n",
              "\n",
              "  // Disable the input element since further picks are not allowed.\n",
              "  inputElement.disabled = true;\n",
              "\n",
              "  if (!files) {\n",
              "    return {\n",
              "      response: {\n",
              "        action: 'complete',\n",
              "      }\n",
              "    };\n",
              "  }\n",
              "\n",
              "  for (const file of files) {\n",
              "    const li = document.createElement('li');\n",
              "    li.append(span(file.name, {fontWeight: 'bold'}));\n",
              "    li.append(span(\n",
              "        `(${file.type || 'n/a'}) - ${file.size} bytes, ` +\n",
              "        `last modified: ${\n",
              "            file.lastModifiedDate ? file.lastModifiedDate.toLocaleDateString() :\n",
              "                                    'n/a'} - `));\n",
              "    const percent = span('0% done');\n",
              "    li.appendChild(percent);\n",
              "\n",
              "    outputElement.appendChild(li);\n",
              "\n",
              "    const fileDataPromise = new Promise((resolve) => {\n",
              "      const reader = new FileReader();\n",
              "      reader.onload = (e) => {\n",
              "        resolve(e.target.result);\n",
              "      };\n",
              "      reader.readAsArrayBuffer(file);\n",
              "    });\n",
              "    // Wait for the data to be ready.\n",
              "    let fileData = yield {\n",
              "      promise: fileDataPromise,\n",
              "      response: {\n",
              "        action: 'continue',\n",
              "      }\n",
              "    };\n",
              "\n",
              "    // Use a chunked sending to avoid message size limits. See b/62115660.\n",
              "    let position = 0;\n",
              "    do {\n",
              "      const length = Math.min(fileData.byteLength - position, MAX_PAYLOAD_SIZE);\n",
              "      const chunk = new Uint8Array(fileData, position, length);\n",
              "      position += length;\n",
              "\n",
              "      const base64 = btoa(String.fromCharCode.apply(null, chunk));\n",
              "      yield {\n",
              "        response: {\n",
              "          action: 'append',\n",
              "          file: file.name,\n",
              "          data: base64,\n",
              "        },\n",
              "      };\n",
              "\n",
              "      let percentDone = fileData.byteLength === 0 ?\n",
              "          100 :\n",
              "          Math.round((position / fileData.byteLength) * 100);\n",
              "      percent.textContent = `${percentDone}% done`;\n",
              "\n",
              "    } while (position < fileData.byteLength);\n",
              "  }\n",
              "\n",
              "  // All done.\n",
              "  yield {\n",
              "    response: {\n",
              "      action: 'complete',\n",
              "    }\n",
              "  };\n",
              "}\n",
              "\n",
              "scope.google = scope.google || {};\n",
              "scope.google.colab = scope.google.colab || {};\n",
              "scope.google.colab._files = {\n",
              "  _uploadFiles,\n",
              "  _uploadFilesContinue,\n",
              "};\n",
              "})(self);\n",
              "</script> "
            ]
          },
          "metadata": {}
        },
        {
          "output_type": "stream",
          "name": "stdout",
          "text": [
            "Saving 20180819.20.jpg to 20180819.20.jpg\n",
            "Image shape after preprocessing: (1, 224, 224, 3)\n"
          ]
        }
      ]
    },
    {
      "cell_type": "code",
      "source": [
        "\n",
        "# Make predictions on the new image\n",
        "predictions = model.predict(image_array)\n",
        "\n",
        "# 'predictions' is typically a 2D array of shape (1, num_classes)\n",
        "# If you have 4 classes, it should look like [[p1, p2, p3, p4]]\n",
        "probabilities = predictions[0]  # Extract the 1D array of probabilities\n",
        "\n",
        "# Print out the probability for each class\n",
        "for class_idx, prob in enumerate(probabilities):\n",
        "    print(f\"Class {class_idx}: {prob:.4f}\")\n",
        "\n",
        "# If you still want the class with the highest probability:\n",
        "predicted_class_index = np.argmax(probabilities)\n",
        "print(f\"Predicted Class Index: {predicted_class_index}\")\n",
        "\n"
      ],
      "metadata": {
        "colab": {
          "base_uri": "https://localhost:8080/"
        },
        "id": "b4cxea1YsAtX",
        "outputId": "fd6a624c-235e-44b1-b3de-6c92940bfb95"
      },
      "execution_count": 22,
      "outputs": [
        {
          "output_type": "stream",
          "name": "stdout",
          "text": [
            "\u001b[1m1/1\u001b[0m \u001b[32m━━━━━━━━━━━━━━━━━━━━\u001b[0m\u001b[37m\u001b[0m \u001b[1m0s\u001b[0m 58ms/step\n",
            "Class 0: 0.0050\n",
            "Class 1: 0.0048\n",
            "Class 2: 0.6217\n",
            "Class 3: 0.3686\n",
            "Predicted Class Index: 2\n"
          ]
        }
      ]
    },
    {
      "cell_type": "code",
      "source": [
        "from google.colab import files\n",
        "\n",
        "# Upload labels.txt from your local machine\n",
        "uploaded = files.upload()\n",
        "\n",
        "# This will prompt you to upload the file from your local machine.\n",
        "# Once uploaded, you can access the file as follows:\n",
        "\n",
        "\n"
      ],
      "metadata": {
        "colab": {
          "base_uri": "https://localhost:8080/",
          "height": 73
        },
        "id": "eskGMBDdsT-s",
        "outputId": "f8fcfe79-e91b-4be5-e8ef-fe3bc7a95a15"
      },
      "execution_count": null,
      "outputs": [
        {
          "output_type": "display_data",
          "data": {
            "text/plain": [
              "<IPython.core.display.HTML object>"
            ],
            "text/html": [
              "\n",
              "     <input type=\"file\" id=\"files-29621012-041e-47ad-8a5f-b87fbec47be8\" name=\"files[]\" multiple disabled\n",
              "        style=\"border:none\" />\n",
              "     <output id=\"result-29621012-041e-47ad-8a5f-b87fbec47be8\">\n",
              "      Upload widget is only available when the cell has been executed in the\n",
              "      current browser session. Please rerun this cell to enable.\n",
              "      </output>\n",
              "      <script>// Copyright 2017 Google LLC\n",
              "//\n",
              "// Licensed under the Apache License, Version 2.0 (the \"License\");\n",
              "// you may not use this file except in compliance with the License.\n",
              "// You may obtain a copy of the License at\n",
              "//\n",
              "//      http://www.apache.org/licenses/LICENSE-2.0\n",
              "//\n",
              "// Unless required by applicable law or agreed to in writing, software\n",
              "// distributed under the License is distributed on an \"AS IS\" BASIS,\n",
              "// WITHOUT WARRANTIES OR CONDITIONS OF ANY KIND, either express or implied.\n",
              "// See the License for the specific language governing permissions and\n",
              "// limitations under the License.\n",
              "\n",
              "/**\n",
              " * @fileoverview Helpers for google.colab Python module.\n",
              " */\n",
              "(function(scope) {\n",
              "function span(text, styleAttributes = {}) {\n",
              "  const element = document.createElement('span');\n",
              "  element.textContent = text;\n",
              "  for (const key of Object.keys(styleAttributes)) {\n",
              "    element.style[key] = styleAttributes[key];\n",
              "  }\n",
              "  return element;\n",
              "}\n",
              "\n",
              "// Max number of bytes which will be uploaded at a time.\n",
              "const MAX_PAYLOAD_SIZE = 100 * 1024;\n",
              "\n",
              "function _uploadFiles(inputId, outputId) {\n",
              "  const steps = uploadFilesStep(inputId, outputId);\n",
              "  const outputElement = document.getElementById(outputId);\n",
              "  // Cache steps on the outputElement to make it available for the next call\n",
              "  // to uploadFilesContinue from Python.\n",
              "  outputElement.steps = steps;\n",
              "\n",
              "  return _uploadFilesContinue(outputId);\n",
              "}\n",
              "\n",
              "// This is roughly an async generator (not supported in the browser yet),\n",
              "// where there are multiple asynchronous steps and the Python side is going\n",
              "// to poll for completion of each step.\n",
              "// This uses a Promise to block the python side on completion of each step,\n",
              "// then passes the result of the previous step as the input to the next step.\n",
              "function _uploadFilesContinue(outputId) {\n",
              "  const outputElement = document.getElementById(outputId);\n",
              "  const steps = outputElement.steps;\n",
              "\n",
              "  const next = steps.next(outputElement.lastPromiseValue);\n",
              "  return Promise.resolve(next.value.promise).then((value) => {\n",
              "    // Cache the last promise value to make it available to the next\n",
              "    // step of the generator.\n",
              "    outputElement.lastPromiseValue = value;\n",
              "    return next.value.response;\n",
              "  });\n",
              "}\n",
              "\n",
              "/**\n",
              " * Generator function which is called between each async step of the upload\n",
              " * process.\n",
              " * @param {string} inputId Element ID of the input file picker element.\n",
              " * @param {string} outputId Element ID of the output display.\n",
              " * @return {!Iterable<!Object>} Iterable of next steps.\n",
              " */\n",
              "function* uploadFilesStep(inputId, outputId) {\n",
              "  const inputElement = document.getElementById(inputId);\n",
              "  inputElement.disabled = false;\n",
              "\n",
              "  const outputElement = document.getElementById(outputId);\n",
              "  outputElement.innerHTML = '';\n",
              "\n",
              "  const pickedPromise = new Promise((resolve) => {\n",
              "    inputElement.addEventListener('change', (e) => {\n",
              "      resolve(e.target.files);\n",
              "    });\n",
              "  });\n",
              "\n",
              "  const cancel = document.createElement('button');\n",
              "  inputElement.parentElement.appendChild(cancel);\n",
              "  cancel.textContent = 'Cancel upload';\n",
              "  const cancelPromise = new Promise((resolve) => {\n",
              "    cancel.onclick = () => {\n",
              "      resolve(null);\n",
              "    };\n",
              "  });\n",
              "\n",
              "  // Wait for the user to pick the files.\n",
              "  const files = yield {\n",
              "    promise: Promise.race([pickedPromise, cancelPromise]),\n",
              "    response: {\n",
              "      action: 'starting',\n",
              "    }\n",
              "  };\n",
              "\n",
              "  cancel.remove();\n",
              "\n",
              "  // Disable the input element since further picks are not allowed.\n",
              "  inputElement.disabled = true;\n",
              "\n",
              "  if (!files) {\n",
              "    return {\n",
              "      response: {\n",
              "        action: 'complete',\n",
              "      }\n",
              "    };\n",
              "  }\n",
              "\n",
              "  for (const file of files) {\n",
              "    const li = document.createElement('li');\n",
              "    li.append(span(file.name, {fontWeight: 'bold'}));\n",
              "    li.append(span(\n",
              "        `(${file.type || 'n/a'}) - ${file.size} bytes, ` +\n",
              "        `last modified: ${\n",
              "            file.lastModifiedDate ? file.lastModifiedDate.toLocaleDateString() :\n",
              "                                    'n/a'} - `));\n",
              "    const percent = span('0% done');\n",
              "    li.appendChild(percent);\n",
              "\n",
              "    outputElement.appendChild(li);\n",
              "\n",
              "    const fileDataPromise = new Promise((resolve) => {\n",
              "      const reader = new FileReader();\n",
              "      reader.onload = (e) => {\n",
              "        resolve(e.target.result);\n",
              "      };\n",
              "      reader.readAsArrayBuffer(file);\n",
              "    });\n",
              "    // Wait for the data to be ready.\n",
              "    let fileData = yield {\n",
              "      promise: fileDataPromise,\n",
              "      response: {\n",
              "        action: 'continue',\n",
              "      }\n",
              "    };\n",
              "\n",
              "    // Use a chunked sending to avoid message size limits. See b/62115660.\n",
              "    let position = 0;\n",
              "    do {\n",
              "      const length = Math.min(fileData.byteLength - position, MAX_PAYLOAD_SIZE);\n",
              "      const chunk = new Uint8Array(fileData, position, length);\n",
              "      position += length;\n",
              "\n",
              "      const base64 = btoa(String.fromCharCode.apply(null, chunk));\n",
              "      yield {\n",
              "        response: {\n",
              "          action: 'append',\n",
              "          file: file.name,\n",
              "          data: base64,\n",
              "        },\n",
              "      };\n",
              "\n",
              "      let percentDone = fileData.byteLength === 0 ?\n",
              "          100 :\n",
              "          Math.round((position / fileData.byteLength) * 100);\n",
              "      percent.textContent = `${percentDone}% done`;\n",
              "\n",
              "    } while (position < fileData.byteLength);\n",
              "  }\n",
              "\n",
              "  // All done.\n",
              "  yield {\n",
              "    response: {\n",
              "      action: 'complete',\n",
              "    }\n",
              "  };\n",
              "}\n",
              "\n",
              "scope.google = scope.google || {};\n",
              "scope.google.colab = scope.google.colab || {};\n",
              "scope.google.colab._files = {\n",
              "  _uploadFiles,\n",
              "  _uploadFilesContinue,\n",
              "};\n",
              "})(self);\n",
              "</script> "
            ]
          },
          "metadata": {}
        },
        {
          "output_type": "stream",
          "name": "stdout",
          "text": [
            "Saving labels.txt to labels (1).txt\n"
          ]
        }
      ]
    },
    {
      "cell_type": "code",
      "source": [
        "# Load the labels.txt file\n",
        "with open('labels.txt', 'r') as f:\n",
        "    labels = f.read().splitlines()\n",
        "\n",
        "# Check the loaded labels\n",
        "print(labels)\n"
      ],
      "metadata": {
        "colab": {
          "base_uri": "https://localhost:8080/"
        },
        "id": "79B_zZVVvbqy",
        "outputId": "578f3a3b-a943-43a5-9455-dabc83c0ea87"
      },
      "execution_count": null,
      "outputs": [
        {
          "output_type": "stream",
          "name": "stdout",
          "text": [
            "['1', '2', '3', '4']\n"
          ]
        }
      ]
    },
    {
      "cell_type": "code",
      "source": [
        "# Assuming you have a preprocessed image and model ready\n",
        "predictions = model.predict(image_array)\n",
        "\n",
        "# Get the index of the class with the highest probability\n",
        "predicted_class_index = np.argmax(predictions)\n",
        "\n",
        "# Map the predicted index to the class label\n",
        "predicted_label = labels[predicted_class_index]\n",
        "print(f\"Predicted Label: {predicted_label}\")\n"
      ],
      "metadata": {
        "colab": {
          "base_uri": "https://localhost:8080/"
        },
        "id": "QkRHgfkDvgZd",
        "outputId": "ae907d4f-12d7-4312-d0aa-d6c292f07b57"
      },
      "execution_count": null,
      "outputs": [
        {
          "output_type": "stream",
          "name": "stdout",
          "text": [
            "\u001b[1m1/1\u001b[0m \u001b[32m━━━━━━━━━━━━━━━━━━━━\u001b[0m\u001b[37m\u001b[0m \u001b[1m0s\u001b[0m 62ms/step\n",
            "Predicted Label: 2\n"
          ]
        }
      ]
    },
    {
      "cell_type": "code",
      "source": [
        "!cp /content/model.tflite /content/drive/MyDrive/"
      ],
      "metadata": {
        "id": "VtNbgB1cntPS",
        "colab": {
          "base_uri": "https://localhost:8080/"
        },
        "outputId": "7d5df2c8-30ad-4fea-e87d-6c7e529a7820"
      },
      "execution_count": null,
      "outputs": [
        {
          "output_type": "stream",
          "name": "stdout",
          "text": [
            "cp: cannot stat '/content/model.tflite': No such file or directory\n"
          ]
        }
      ]
    },
    {
      "cell_type": "code",
      "source": [],
      "metadata": {
        "id": "4zuqQq-78v7D"
      },
      "execution_count": null,
      "outputs": []
    }
  ]
}